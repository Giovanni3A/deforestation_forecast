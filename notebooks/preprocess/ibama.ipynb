{
 "cells": [
  {
   "cell_type": "markdown",
   "metadata": {},
   "source": [
    "# Prepare environment"
   ]
  },
  {
   "cell_type": "code",
   "execution_count": 38,
   "metadata": {
    "tags": []
   },
   "outputs": [],
   "source": [
    "import os\n",
    "import numpy as np\n",
    "import pandas as pd\n",
    "import geopandas as gpd\n",
    "import matplotlib.pyplot as plt\n",
    "\n",
    "import rioxarray as rxr\n",
    "from tqdm.notebook import tqdm"
   ]
  },
  {
   "cell_type": "code",
   "execution_count": 39,
   "metadata": {
    "tags": []
   },
   "outputs": [],
   "source": [
    "import sys\n",
    "sys.path.append(\"..//..\")\n",
    "\n",
    "import config"
   ]
  },
  {
   "cell_type": "markdown",
   "metadata": {},
   "source": [
    "# Load IBAMA data"
   ]
  },
  {
   "cell_type": "code",
   "execution_count": 40,
   "metadata": {
    "tags": []
   },
   "outputs": [],
   "source": [
    "folder = os.path.join(config.RAW_DATA_PATH, \"ibama\")"
   ]
  },
  {
   "cell_type": "code",
   "execution_count": 41,
   "metadata": {
    "tags": []
   },
   "outputs": [
    {
     "data": {
      "text/plain": [
       "['Access_Minut_Beef_2012.tif',\n",
       " 'Access_Minut_City.tif',\n",
       " 'Access_Minut_soy.tif',\n",
       " 'Access_Minut_soy_p25.tif',\n",
       " 'Access_Minut_wood_2012.tif',\n",
       " 'garimpos.tif',\n",
       " 'Modelling_layers_metadata.xlsx',\n",
       " 'Multas_upto2019.tif',\n",
       " 'Pasture_Mapbiomas.tif',\n",
       " 'Soybean_Mapbiomas.tif',\n",
       " 'Terras_Devolutas.tif',\n",
       " 'Terras_Devolutas_IO.tif',\n",
       " 'TI_Dist.tif',\n",
       " 'TI_IO.tif',\n",
       " 'UCPI_dist.tif',\n",
       " 'UCPI_IO.tif',\n",
       " 'UCUS_Dist.tif',\n",
       " 'UCUS_IO.tif']"
      ]
     },
     "execution_count": 41,
     "metadata": {},
     "output_type": "execute_result"
    }
   ],
   "source": [
    "os.listdir(folder)"
   ]
  },
  {
   "cell_type": "code",
   "execution_count": 48,
   "metadata": {
    "tags": []
   },
   "outputs": [
    {
     "data": {
      "application/vnd.jupyter.widget-view+json": {
       "model_id": "24e7ef0cd5584034ae42cbf92fb0d23d",
       "version_major": 2,
       "version_minor": 0
      },
      "text/plain": [
       "  0%|          | 0/18 [00:00<?, ?it/s]"
      ]
     },
     "metadata": {},
     "output_type": "display_data"
    }
   ],
   "source": [
    "gdf_list = []\n",
    "for name in tqdm(os.listdir(folder)):\n",
    "    if name[-3:] == \"tif\":\n",
    "        name = name.split(\".tif\")[0]\n",
    "        dataarray = rxr.open_rasterio(\n",
    "            os.path.join(folder, f\"{name}.tif\")\n",
    "        )\n",
    "        df = dataarray[0].to_pandas()\n",
    "        df.replace(dataarray[0].attrs[\"_FillValue\"], np.nan, inplace=True)\n",
    "        df = pd.melt(df, ignore_index=False).reset_index().rename(columns={\"value\": name})\n",
    "        df.dropna(inplace=True)\n",
    "        gdf = gpd.GeoDataFrame(\n",
    "            df, geometry=gpd.points_from_xy(df.x, df.y)\n",
    "        ).drop([\"x\", \"y\"], axis=1).reset_index(drop=True)\n",
    "        \n",
    "        gdf_list.append(gdf)"
   ]
  },
  {
   "cell_type": "code",
   "execution_count": 58,
   "metadata": {
    "tags": []
   },
   "outputs": [
    {
     "data": {
      "text/plain": [
       "len\n",
       "5012128    6\n",
       "5011816    5\n",
       "5014087    4\n",
       "5014103    1\n",
       "5014151    1\n",
       "Name: count, dtype: int64"
      ]
     },
     "execution_count": 58,
     "metadata": {},
     "output_type": "execute_result"
    }
   ],
   "source": [
    "gdf_data = pd.DataFrame([k.index[-1] for k in gdf_list], columns=[\"len\"]).reset_index()\n",
    "gdf_data[\"len\"].value_counts()"
   ]
  },
  {
   "cell_type": "markdown",
   "metadata": {},
   "source": [
    "## Aggregate datasets by geometry values"
   ]
  },
  {
   "cell_type": "code",
   "execution_count": 90,
   "metadata": {
    "tags": []
   },
   "outputs": [],
   "source": [
    "# validate that datasets with same size correspond to same geometry distribution\n",
    "for len_ in gdf_data[\"len\"].unique():\n",
    "    len_idx = gdf_data[gdf_data[\"len\"] == len_].index\n",
    "    for i in range(len(len_idx) - 1):\n",
    "        ndiff1 = sum(gdf_list[len_idx[i]][\"geometry\"].head(100) != gdf_list[len_idx[i+1]][\"geometry\"].head(100))\n",
    "        ndiff2 = sum(gdf_list[len_idx[i]][\"geometry\"].tail(100) != gdf_list[len_idx[i+1]][\"geometry\"].tail(100))\n",
    "        if ndiff1 > 0:\n",
    "            print(1, len_, i, ndiff1)\n",
    "        if ndiff2 > 0:\n",
    "            print(2, len_, i, ndiff2)"
   ]
  },
  {
   "cell_type": "code",
   "execution_count": 122,
   "metadata": {
    "tags": []
   },
   "outputs": [],
   "source": [
    "# create a concatenated dataset for each size group\n",
    "concat_gdf_list = []\n",
    "for len_ in gdf_data[\"len\"].unique():\n",
    "    # datasets with same size\n",
    "    len_idx = gdf_data[gdf_data[\"len\"] == len_].index\n",
    "    # correspondent geometry list\n",
    "    geom_ = gdf_list[len_idx[0]][\"geometry\"].values\n",
    "    len_gdf = gpd.GeoDataFrame(geometry=geom_)\n",
    "    # add variable columns\n",
    "    for idx in len_idx:\n",
    "        len_idx_gdf = gdf_list[idx]\n",
    "        for col in len_idx_gdf.columns:\n",
    "            if col != \"geometry\":\n",
    "                len_gdf[col] = len_idx_gdf[col]\n",
    "                \n",
    "    concat_gdf_list.append(len_gdf)"
   ]
  },
  {
   "cell_type": "markdown",
   "metadata": {
    "tags": []
   },
   "source": [
    "## Join with defined grid"
   ]
  },
  {
   "cell_type": "code",
   "execution_count": 134,
   "metadata": {
    "tags": []
   },
   "outputs": [
    {
     "name": "stdout",
     "output_type": "stream",
     "text": [
      "CPU times: total: 14min 56s\n",
      "Wall time: 14min 56s\n"
     ]
    }
   ],
   "source": [
    "%%time\n",
    "\n",
    "# load grid data (takes some minutes)\n",
    "frames = gpd.read_file(config.TR_FRAMES)"
   ]
  },
  {
   "cell_type": "code",
   "execution_count": 161,
   "metadata": {
    "tags": []
   },
   "outputs": [
    {
     "data": {
      "application/vnd.jupyter.widget-view+json": {
       "model_id": "90cbe333db2e47138d0b3b7093e3362e",
       "version_major": 2,
       "version_minor": 0
      },
      "text/plain": [
       "  0%|          | 0/5 [00:00<?, ?it/s]"
      ]
     },
     "metadata": {},
     "output_type": "display_data"
    }
   ],
   "source": [
    "ibama_df = pd.DataFrame()\n",
    "for concat_gdf in tqdm(concat_gdf_list):\n",
    "    gdf_frames = gpd.overlay(\n",
    "        frames[frames[\"in_borders\"] == 1][[\"frame_id\", \"geometry\"]],\n",
    "        concat_gdf.set_crs(frames.crs),\n",
    "        how=\"intersection\", \n",
    "        keep_geom_type=False\n",
    "    ).dissolve(\"frame_id\", aggfunc=\"mean\")\\\n",
    "        .drop(\"geometry\", axis=1)\n",
    "    for col in gdf_frames.columns:\n",
    "        ibama_df[col] = gdf_frames[col]"
   ]
  },
  {
   "cell_type": "code",
   "execution_count": 173,
   "metadata": {
    "tags": []
   },
   "outputs": [
    {
     "data": {
      "text/plain": [
       "Access_Minut_Beef_2012       0\n",
       "Access_Minut_City            0\n",
       "Access_Minut_soy             0\n",
       "Access_Minut_soy_p25         0\n",
       "Access_Minut_wood_2012       0\n",
       "garimpos                  1783\n",
       "Multas_upto2019           1783\n",
       "Terras_Devolutas          1783\n",
       "TI_Dist                   1783\n",
       "UCPI_dist                 1783\n",
       "UCUS_Dist                 1783\n",
       "Pasture_Mapbiomas         1824\n",
       "Soybean_Mapbiomas         1824\n",
       "UCPI_IO                   1824\n",
       "UCUS_IO                   1824\n",
       "Terras_Devolutas_IO       1817\n",
       "TI_IO                     1789\n",
       "dtype: int64"
      ]
     },
     "execution_count": 173,
     "metadata": {},
     "output_type": "execute_result"
    }
   ],
   "source": [
    "ibama_df.isna().sum()"
   ]
  },
  {
   "cell_type": "code",
   "execution_count": 174,
   "metadata": {
    "tags": []
   },
   "outputs": [
    {
     "data": {
      "text/plain": [
       "(8976, 5)"
      ]
     },
     "execution_count": 174,
     "metadata": {},
     "output_type": "execute_result"
    }
   ],
   "source": [
    "frames[(frames[\"in_borders\"] == 1) &\n",
    "      (~frames[\"frame_id\"].isin(ibama_df.index))].shape"
   ]
  },
  {
   "cell_type": "markdown",
   "metadata": {},
   "source": [
    "# Save files"
   ]
  },
  {
   "cell_type": "code",
   "execution_count": 166,
   "metadata": {
    "tags": []
   },
   "outputs": [
    {
     "data": {
      "text/html": [
       "<div>\n",
       "<style scoped>\n",
       "    .dataframe tbody tr th:only-of-type {\n",
       "        vertical-align: middle;\n",
       "    }\n",
       "\n",
       "    .dataframe tbody tr th {\n",
       "        vertical-align: top;\n",
       "    }\n",
       "\n",
       "    .dataframe thead th {\n",
       "        text-align: right;\n",
       "    }\n",
       "</style>\n",
       "<table border=\"1\" class=\"dataframe\">\n",
       "  <thead>\n",
       "    <tr style=\"text-align: right;\">\n",
       "      <th></th>\n",
       "      <th>Access_Minut_Beef_2012</th>\n",
       "      <th>Access_Minut_City</th>\n",
       "      <th>Access_Minut_soy</th>\n",
       "      <th>Access_Minut_soy_p25</th>\n",
       "      <th>Access_Minut_wood_2012</th>\n",
       "      <th>garimpos</th>\n",
       "      <th>Multas_upto2019</th>\n",
       "      <th>Terras_Devolutas</th>\n",
       "      <th>TI_Dist</th>\n",
       "      <th>UCPI_dist</th>\n",
       "      <th>UCUS_Dist</th>\n",
       "      <th>Pasture_Mapbiomas</th>\n",
       "      <th>Soybean_Mapbiomas</th>\n",
       "      <th>UCPI_IO</th>\n",
       "      <th>UCUS_IO</th>\n",
       "      <th>Terras_Devolutas_IO</th>\n",
       "      <th>TI_IO</th>\n",
       "    </tr>\n",
       "    <tr>\n",
       "      <th>frame_id</th>\n",
       "      <th></th>\n",
       "      <th></th>\n",
       "      <th></th>\n",
       "      <th></th>\n",
       "      <th></th>\n",
       "      <th></th>\n",
       "      <th></th>\n",
       "      <th></th>\n",
       "      <th></th>\n",
       "      <th></th>\n",
       "      <th></th>\n",
       "      <th></th>\n",
       "      <th></th>\n",
       "      <th></th>\n",
       "      <th></th>\n",
       "      <th></th>\n",
       "      <th></th>\n",
       "    </tr>\n",
       "  </thead>\n",
       "  <tbody>\n",
       "    <tr>\n",
       "      <th>1048</th>\n",
       "      <td>1731.996704</td>\n",
       "      <td>441494.65625</td>\n",
       "      <td>1766.176025</td>\n",
       "      <td>3627.775146</td>\n",
       "      <td>1733.241089</td>\n",
       "      <td>6.405919</td>\n",
       "      <td>0.356288</td>\n",
       "      <td>0.419389</td>\n",
       "      <td>0.414698</td>\n",
       "      <td>0.0</td>\n",
       "      <td>0.930295</td>\n",
       "      <td>NaN</td>\n",
       "      <td>NaN</td>\n",
       "      <td>NaN</td>\n",
       "      <td>NaN</td>\n",
       "      <td>NaN</td>\n",
       "      <td>NaN</td>\n",
       "    </tr>\n",
       "    <tr>\n",
       "      <th>1049</th>\n",
       "      <td>1724.342529</td>\n",
       "      <td>438095.75000</td>\n",
       "      <td>1758.582275</td>\n",
       "      <td>3620.121094</td>\n",
       "      <td>1725.647339</td>\n",
       "      <td>6.401271</td>\n",
       "      <td>0.358501</td>\n",
       "      <td>0.412888</td>\n",
       "      <td>0.408937</td>\n",
       "      <td>0.0</td>\n",
       "      <td>0.929087</td>\n",
       "      <td>0.0</td>\n",
       "      <td>0.0</td>\n",
       "      <td>1.0</td>\n",
       "      <td>0.0</td>\n",
       "      <td>0.0</td>\n",
       "      <td>0.0</td>\n",
       "    </tr>\n",
       "    <tr>\n",
       "      <th>1050</th>\n",
       "      <td>1715.001465</td>\n",
       "      <td>434546.84375</td>\n",
       "      <td>1749.272095</td>\n",
       "      <td>3610.780029</td>\n",
       "      <td>1716.337158</td>\n",
       "      <td>6.396634</td>\n",
       "      <td>0.360931</td>\n",
       "      <td>0.406487</td>\n",
       "      <td>0.403301</td>\n",
       "      <td>0.0</td>\n",
       "      <td>0.927966</td>\n",
       "      <td>NaN</td>\n",
       "      <td>NaN</td>\n",
       "      <td>NaN</td>\n",
       "      <td>NaN</td>\n",
       "      <td>NaN</td>\n",
       "      <td>NaN</td>\n",
       "    </tr>\n",
       "    <tr>\n",
       "      <th>3378</th>\n",
       "      <td>1717.439209</td>\n",
       "      <td>436251.43750</td>\n",
       "      <td>1751.699097</td>\n",
       "      <td>3613.217773</td>\n",
       "      <td>1718.764160</td>\n",
       "      <td>6.402734</td>\n",
       "      <td>0.345374</td>\n",
       "      <td>0.419785</td>\n",
       "      <td>0.413693</td>\n",
       "      <td>0.0</td>\n",
       "      <td>0.922568</td>\n",
       "      <td>0.0</td>\n",
       "      <td>0.0</td>\n",
       "      <td>1.0</td>\n",
       "      <td>0.0</td>\n",
       "      <td>0.0</td>\n",
       "      <td>0.0</td>\n",
       "    </tr>\n",
       "    <tr>\n",
       "      <th>3379</th>\n",
       "      <td>1710.102661</td>\n",
       "      <td>432888.81250</td>\n",
       "      <td>1744.338989</td>\n",
       "      <td>3605.881104</td>\n",
       "      <td>1711.404053</td>\n",
       "      <td>6.398072</td>\n",
       "      <td>0.347417</td>\n",
       "      <td>0.413089</td>\n",
       "      <td>0.407714</td>\n",
       "      <td>0.0</td>\n",
       "      <td>0.921259</td>\n",
       "      <td>0.0</td>\n",
       "      <td>0.0</td>\n",
       "      <td>1.0</td>\n",
       "      <td>0.0</td>\n",
       "      <td>0.0</td>\n",
       "      <td>0.0</td>\n",
       "    </tr>\n",
       "  </tbody>\n",
       "</table>\n",
       "</div>"
      ],
      "text/plain": [
       "          Access_Minut_Beef_2012  Access_Minut_City  Access_Minut_soy  \\\n",
       "frame_id                                                                \n",
       "1048                 1731.996704       441494.65625       1766.176025   \n",
       "1049                 1724.342529       438095.75000       1758.582275   \n",
       "1050                 1715.001465       434546.84375       1749.272095   \n",
       "3378                 1717.439209       436251.43750       1751.699097   \n",
       "3379                 1710.102661       432888.81250       1744.338989   \n",
       "\n",
       "          Access_Minut_soy_p25  Access_Minut_wood_2012  garimpos  \\\n",
       "frame_id                                                           \n",
       "1048               3627.775146             1733.241089  6.405919   \n",
       "1049               3620.121094             1725.647339  6.401271   \n",
       "1050               3610.780029             1716.337158  6.396634   \n",
       "3378               3613.217773             1718.764160  6.402734   \n",
       "3379               3605.881104             1711.404053  6.398072   \n",
       "\n",
       "          Multas_upto2019  Terras_Devolutas   TI_Dist  UCPI_dist  UCUS_Dist  \\\n",
       "frame_id                                                                      \n",
       "1048             0.356288          0.419389  0.414698        0.0   0.930295   \n",
       "1049             0.358501          0.412888  0.408937        0.0   0.929087   \n",
       "1050             0.360931          0.406487  0.403301        0.0   0.927966   \n",
       "3378             0.345374          0.419785  0.413693        0.0   0.922568   \n",
       "3379             0.347417          0.413089  0.407714        0.0   0.921259   \n",
       "\n",
       "          Pasture_Mapbiomas  Soybean_Mapbiomas  UCPI_IO  UCUS_IO  \\\n",
       "frame_id                                                           \n",
       "1048                    NaN                NaN      NaN      NaN   \n",
       "1049                    0.0                0.0      1.0      0.0   \n",
       "1050                    NaN                NaN      NaN      NaN   \n",
       "3378                    0.0                0.0      1.0      0.0   \n",
       "3379                    0.0                0.0      1.0      0.0   \n",
       "\n",
       "          Terras_Devolutas_IO  TI_IO  \n",
       "frame_id                              \n",
       "1048                      NaN    NaN  \n",
       "1049                      0.0    0.0  \n",
       "1050                      NaN    NaN  \n",
       "3378                      0.0    0.0  \n",
       "3379                      0.0    0.0  "
      ]
     },
     "execution_count": 166,
     "metadata": {},
     "output_type": "execute_result"
    }
   ],
   "source": [
    "ibama_df.head()"
   ]
  },
  {
   "cell_type": "code",
   "execution_count": 167,
   "metadata": {},
   "outputs": [],
   "source": [
    "# forest areas\n",
    "ibama_df.to_csv(config.TR_IBAMA)"
   ]
  }
 ],
 "metadata": {
  "kernelspec": {
   "display_name": "Python 3 (ipykernel)",
   "language": "python",
   "name": "python3"
  },
  "language_info": {
   "codemirror_mode": {
    "name": "ipython",
    "version": 3
   },
   "file_extension": ".py",
   "mimetype": "text/x-python",
   "name": "python",
   "nbconvert_exporter": "python",
   "pygments_lexer": "ipython3",
   "version": "3.11.5"
  }
 },
 "nbformat": 4,
 "nbformat_minor": 4
}
