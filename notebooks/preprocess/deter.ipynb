{
 "cells": [
  {
   "cell_type": "markdown",
   "metadata": {},
   "source": [
    "# Prepare environment"
   ]
  },
  {
   "cell_type": "code",
   "execution_count": 1,
   "metadata": {
    "tags": []
   },
   "outputs": [],
   "source": [
    "import os\n",
    "import pickle\n",
    "import numpy as np\n",
    "import pandas as pd\n",
    "import matplotlib.pyplot as plt\n",
    "import seaborn as sns\n",
    "\n",
    "import geopandas as gpd\n",
    "from shapely.geometry import box, Polygon\n",
    "\n",
    "from tqdm import tqdm"
   ]
  },
  {
   "cell_type": "code",
   "execution_count": 2,
   "metadata": {
    "tags": []
   },
   "outputs": [],
   "source": [
    "import sys\n",
    "sys.path.append(\"..//..\")\n",
    "import config\n",
    "\n",
    "import warnings\n",
    "warnings.filterwarnings('ignore')"
   ]
  },
  {
   "cell_type": "markdown",
   "metadata": {},
   "source": [
    "# Data reading"
   ]
  },
  {
   "cell_type": "markdown",
   "metadata": {},
   "source": [
    "## Amazon borders"
   ]
  },
  {
   "cell_type": "code",
   "execution_count": 3,
   "metadata": {
    "tags": []
   },
   "outputs": [],
   "source": [
    "# legal amazon limits\n",
    "am_bounds = gpd.read_file(config.AMAZON_FRONTIER_DATA)"
   ]
  },
  {
   "cell_type": "markdown",
   "metadata": {},
   "source": [
    "## DETER warnings"
   ]
  },
  {
   "cell_type": "code",
   "execution_count": 72,
   "metadata": {
    "tags": []
   },
   "outputs": [
    {
     "name": "stdout",
     "output_type": "stream",
     "text": [
      "Shape: (344983, 14)\n"
     ]
    },
    {
     "data": {
      "text/html": [
       "<div>\n",
       "<style scoped>\n",
       "    .dataframe tbody tr th:only-of-type {\n",
       "        vertical-align: middle;\n",
       "    }\n",
       "\n",
       "    .dataframe tbody tr th {\n",
       "        vertical-align: top;\n",
       "    }\n",
       "\n",
       "    .dataframe thead th {\n",
       "        text-align: right;\n",
       "    }\n",
       "</style>\n",
       "<table border=\"1\" class=\"dataframe\">\n",
       "  <thead>\n",
       "    <tr style=\"text-align: right;\">\n",
       "      <th></th>\n",
       "      <th>FID</th>\n",
       "      <th>CLASSNAME</th>\n",
       "      <th>QUADRANT</th>\n",
       "      <th>PATH_ROW</th>\n",
       "      <th>VIEW_DATE</th>\n",
       "      <th>SENSOR</th>\n",
       "      <th>SATELLITE</th>\n",
       "      <th>AREAUCKM</th>\n",
       "      <th>UC</th>\n",
       "      <th>AREAMUNKM</th>\n",
       "      <th>MUNICIPALI</th>\n",
       "      <th>GEOCODIBGE</th>\n",
       "      <th>UF</th>\n",
       "      <th>geometry</th>\n",
       "    </tr>\n",
       "  </thead>\n",
       "  <tbody>\n",
       "    <tr>\n",
       "      <th>0</th>\n",
       "      <td>100002_hist</td>\n",
       "      <td>CICATRIZ_DE_QUEIMADA</td>\n",
       "      <td>None</td>\n",
       "      <td>170105</td>\n",
       "      <td>2018-01-11</td>\n",
       "      <td>AWFI</td>\n",
       "      <td>CBERS-4</td>\n",
       "      <td>0.0</td>\n",
       "      <td>None</td>\n",
       "      <td>0.459839</td>\n",
       "      <td>Monte Alegre</td>\n",
       "      <td>1504802</td>\n",
       "      <td>PA</td>\n",
       "      <td>POLYGON ((-54.04199 -1.90637, -54.04199 -1.906...</td>\n",
       "    </tr>\n",
       "  </tbody>\n",
       "</table>\n",
       "</div>"
      ],
      "text/plain": [
       "           FID             CLASSNAME QUADRANT PATH_ROW   VIEW_DATE SENSOR  \\\n",
       "0  100002_hist  CICATRIZ_DE_QUEIMADA     None   170105  2018-01-11   AWFI   \n",
       "\n",
       "  SATELLITE  AREAUCKM    UC  AREAMUNKM    MUNICIPALI GEOCODIBGE  UF  \\\n",
       "0   CBERS-4       0.0  None   0.459839  Monte Alegre    1504802  PA   \n",
       "\n",
       "                                            geometry  \n",
       "0  POLYGON ((-54.04199 -1.90637, -54.04199 -1.906...  "
      ]
     },
     "execution_count": 72,
     "metadata": {},
     "output_type": "execute_result"
    }
   ],
   "source": [
    "# deter deforestation alerts\n",
    "deter = gpd.read_file(config.DETER_DATA)\n",
    "print(\"Shape:\", deter.shape)\n",
    "deter.head(1)"
   ]
  },
  {
   "cell_type": "code",
   "execution_count": 73,
   "metadata": {
    "tags": []
   },
   "outputs": [
    {
     "data": {
      "text/plain": [
       "CLASSNAME\n",
       "DESMATAMENTO_CR         229756\n",
       "CICATRIZ_DE_QUEIMADA     61129\n",
       "DEGRADACAO               30769\n",
       "DESMATAMENTO_VEG          8221\n",
       "MINERACAO                 6731\n",
       "CS_DESORDENADO            4949\n",
       "CS_GEOMETRICO             3425\n",
       "DEGRDACAO                    2\n",
       "CORTE_SELETIVO               1\n",
       "Name: count, dtype: int64"
      ]
     },
     "execution_count": 73,
     "metadata": {},
     "output_type": "execute_result"
    }
   ],
   "source": [
    "deter[\"CLASSNAME\"].value_counts()"
   ]
  },
  {
   "cell_type": "code",
   "execution_count": 74,
   "metadata": {
    "tags": []
   },
   "outputs": [],
   "source": [
    "# filtrar CLASSNAME\n",
    "deter = deter[deter[\"CLASSNAME\"].isin([\n",
    "    \"DESMATAMENTO_CR\", \"DESMATAMENTO_VEG\", \"MINERACAO\"\n",
    "])].copy()"
   ]
  },
  {
   "cell_type": "markdown",
   "metadata": {},
   "source": [
    "### Date format"
   ]
  },
  {
   "cell_type": "code",
   "execution_count": 75,
   "metadata": {
    "tags": []
   },
   "outputs": [],
   "source": [
    "# datetime data formatting\n",
    "deter[\"date\"] = pd.to_datetime(deter[\"VIEW_DATE\"])"
   ]
  },
  {
   "cell_type": "code",
   "execution_count": 76,
   "metadata": {
    "tags": []
   },
   "outputs": [
    {
     "data": {
      "image/png": "[encoded data removed]",
      "text/plain": [
       "<Figure size 640x480 with 1 Axes>"
      ]
     },
     "metadata": {},
     "output_type": "display_data"
    }
   ],
   "source": [
    "fig, ax = plt.subplots()\n",
    "sns.histplot(deter, x=\"date\", binwidth=28)\n",
    "plt.xticks(rotation=45)\n",
    "plt.show()"
   ]
  },
  {
   "cell_type": "code",
   "execution_count": 36,
   "metadata": {
    "tags": []
   },
   "outputs": [],
   "source": [
    "# filter dates\n",
    "deter = deter[\n",
    "    (deter[\"date\"] >= config.DT_INIT) &\n",
    "    (deter[\"date\"] <= config.DT_FIM)\n",
    "]"
   ]
  },
  {
   "cell_type": "code",
   "execution_count": 37,
   "metadata": {
    "tags": []
   },
   "outputs": [],
   "source": [
    "deter[\"weekday\"] = deter[\"date\"].dt.weekday"
   ]
  },
  {
   "cell_type": "code",
   "execution_count": 38,
   "metadata": {
    "tags": []
   },
   "outputs": [
    {
     "data": {
      "text/plain": [
       "Timestamp('2019-01-21 00:00:00')"
      ]
     },
     "execution_count": 38,
     "metadata": {},
     "output_type": "execute_result"
    }
   ],
   "source": [
    "deter[deter[\"weekday\"] == 0][\"date\"].min()"
   ]
  },
  {
   "cell_type": "code",
   "execution_count": 39,
   "metadata": {
    "tags": []
   },
   "outputs": [
    {
     "data": {
      "text/plain": [
       "Timestamp('2023-12-25 00:00:00')"
      ]
     },
     "execution_count": 39,
     "metadata": {},
     "output_type": "execute_result"
    }
   ],
   "source": [
    "deter[deter[\"weekday\"] == 0][\"date\"].max()"
   ]
  },
  {
   "cell_type": "code",
   "execution_count": 40,
   "metadata": {
    "tags": []
   },
   "outputs": [],
   "source": [
    "# drop days before first monday\n",
    "deter = deter[\n",
    "    (deter[\"date\"] >= deter[deter[\"weekday\"] == 0][\"date\"].min())\n",
    "]"
   ]
  },
  {
   "cell_type": "code",
   "execution_count": 41,
   "metadata": {
    "tags": []
   },
   "outputs": [],
   "source": [
    "deter[\"week_count\"] = (deter[\"date\"] - deter[\"date\"].min()).dt.days // 7"
   ]
  },
  {
   "cell_type": "code",
   "execution_count": 16,
   "metadata": {
    "tags": []
   },
   "outputs": [],
   "source": [
    "\n",
    "# period = \"15D\"  # 3M | 15D\n",
    "\n",
    "# if period == \"3M\":\n",
    "#     deter[\"month\"] = (deter[\"date\"].dt.quarter - 1) * 3 + 1\n",
    "#     deter[\"year\"] = deter[\"date\"].dt.year\n",
    "#     deter[\"day\"] = 1\n",
    "#     deter[\"date\"] = pd.to_datetime(deter[[\"year\", \"month\", \"day\"]])\n",
    "\n",
    "# elif period == \"15D\":\n",
    "#     deter[\"month\"] = deter[\"date\"].dt.month\n",
    "#     deter[\"year\"] = deter[\"date\"].dt.year\n",
    "#     deter[\"day\"] = (deter[\"date\"].dt.day // 16).map({0: 1, 1: 16})\n",
    "#     deter[\"date\"] = pd.to_datetime(deter[[\"year\", \"month\", \"day\"]])"
   ]
  },
  {
   "cell_type": "code",
   "execution_count": 43,
   "metadata": {
    "tags": []
   },
   "outputs": [
    {
     "data": {
      "text/plain": [
       "range(0, 258)"
      ]
     },
     "execution_count": 43,
     "metadata": {},
     "output_type": "execute_result"
    }
   ],
   "source": [
    "periods = range(deter[\"week_count\"].max()+1)\n",
    "periods"
   ]
  },
  {
   "cell_type": "markdown",
   "metadata": {},
   "source": [
    "# Create full grid"
   ]
  },
  {
   "cell_type": "code",
   "execution_count": 44,
   "metadata": {
    "tags": []
   },
   "outputs": [
    {
     "name": "stdout",
     "output_type": "stream",
     "text": [
      "-73.9909722199879 -18.04176667000001 -43.95182736291479 5.27222500000003\n"
     ]
    }
   ],
   "source": [
    "# get rectangle bounds from region\n",
    "min_x, min_y, max_x, max_y = am_bounds.total_bounds\n",
    "print(min_x, min_y, max_x, max_y)"
   ]
  },
  {
   "cell_type": "code",
   "execution_count": 45,
   "metadata": {
    "tags": []
   },
   "outputs": [
    {
     "data": {
      "text/plain": [
       "0.01"
      ]
     },
     "execution_count": 45,
     "metadata": {},
     "output_type": "execute_result"
    }
   ],
   "source": [
    "config.BOX_SIDE"
   ]
  },
  {
   "cell_type": "code",
   "execution_count": 46,
   "metadata": {
    "tags": []
   },
   "outputs": [
    {
     "name": "stderr",
     "output_type": "stream",
     "text": [
      "100%|██████████████████████████████████████████████████████████████████████████████| 3003/3003 [03:02<00:00, 16.46it/s]\n"
     ]
    }
   ],
   "source": [
    "# generate grid intersection with desired area\n",
    "nx = int(np.ceil((max_x - min_x) / config.BOX_SIDE))\n",
    "ny = int(np.ceil((max_y - min_y) / config.BOX_SIDE))\n",
    "gx, gy = np.linspace(min_x,max_x,nx), np.linspace(min_y,max_y,ny)\n",
    "grid = []\n",
    "idx_ = 0\n",
    "for i in tqdm(list(range(len(gx)-1))):\n",
    "    for j in range(len(gy)-1):\n",
    "        poly_ij = Polygon([[gx[i],gy[j]],[gx[i],gy[j+1]],[gx[i+1],gy[j+1]],[gx[i+1],gy[j]]])\n",
    "        grid.append([idx_,i,j,poly_ij])\n",
    "        idx_ += 1"
   ]
  },
  {
   "cell_type": "code",
   "execution_count": 47,
   "metadata": {
    "tags": []
   },
   "outputs": [
    {
     "name": "stdout",
     "output_type": "stream",
     "text": [
      "Shape: (6999993, 4)\n"
     ]
    },
    {
     "data": {
      "text/html": [
       "<div>\n",
       "<style scoped>\n",
       "    .dataframe tbody tr th:only-of-type {\n",
       "        vertical-align: middle;\n",
       "    }\n",
       "\n",
       "    .dataframe tbody tr th {\n",
       "        vertical-align: top;\n",
       "    }\n",
       "\n",
       "    .dataframe thead th {\n",
       "        text-align: right;\n",
       "    }\n",
       "</style>\n",
       "<table border=\"1\" class=\"dataframe\">\n",
       "  <thead>\n",
       "    <tr style=\"text-align: right;\">\n",
       "      <th></th>\n",
       "      <th>frame_id</th>\n",
       "      <th>x</th>\n",
       "      <th>y</th>\n",
       "      <th>geometry</th>\n",
       "    </tr>\n",
       "  </thead>\n",
       "  <tbody>\n",
       "    <tr>\n",
       "      <th>0</th>\n",
       "      <td>0</td>\n",
       "      <td>0</td>\n",
       "      <td>0</td>\n",
       "      <td>POLYGON ((-73.99097 -18.04177, -73.99097 -18.0...</td>\n",
       "    </tr>\n",
       "    <tr>\n",
       "      <th>1</th>\n",
       "      <td>1</td>\n",
       "      <td>0</td>\n",
       "      <td>1</td>\n",
       "      <td>POLYGON ((-73.99097 -18.03176, -73.99097 -18.0...</td>\n",
       "    </tr>\n",
       "    <tr>\n",
       "      <th>2</th>\n",
       "      <td>2</td>\n",
       "      <td>0</td>\n",
       "      <td>2</td>\n",
       "      <td>POLYGON ((-73.99097 -18.02176, -73.99097 -18.0...</td>\n",
       "    </tr>\n",
       "    <tr>\n",
       "      <th>3</th>\n",
       "      <td>3</td>\n",
       "      <td>0</td>\n",
       "      <td>3</td>\n",
       "      <td>POLYGON ((-73.99097 -18.01176, -73.99097 -18.0...</td>\n",
       "    </tr>\n",
       "    <tr>\n",
       "      <th>4</th>\n",
       "      <td>4</td>\n",
       "      <td>0</td>\n",
       "      <td>4</td>\n",
       "      <td>POLYGON ((-73.99097 -18.00176, -73.99097 -17.9...</td>\n",
       "    </tr>\n",
       "  </tbody>\n",
       "</table>\n",
       "</div>"
      ],
      "text/plain": [
       "   frame_id  x  y                                           geometry\n",
       "0         0  0  0  POLYGON ((-73.99097 -18.04177, -73.99097 -18.0...\n",
       "1         1  0  1  POLYGON ((-73.99097 -18.03176, -73.99097 -18.0...\n",
       "2         2  0  2  POLYGON ((-73.99097 -18.02176, -73.99097 -18.0...\n",
       "3         3  0  3  POLYGON ((-73.99097 -18.01176, -73.99097 -18.0...\n",
       "4         4  0  4  POLYGON ((-73.99097 -18.00176, -73.99097 -17.9..."
      ]
     },
     "execution_count": 47,
     "metadata": {},
     "output_type": "execute_result"
    }
   ],
   "source": [
    "frames = gpd.GeoDataFrame(pd.DataFrame(grid, columns=[\"frame_id\", \"x\", \"y\", \"geometry\"]), crs=am_bounds.crs)\n",
    "print(\"Shape:\", frames.shape)\n",
    "frames.head()"
   ]
  },
  {
   "cell_type": "code",
   "execution_count": 48,
   "metadata": {
    "tags": []
   },
   "outputs": [
    {
     "name": "stdout",
     "output_type": "stream",
     "text": [
      "CPU times: total: 15min 38s\n",
      "Wall time: 15min 39s\n"
     ]
    }
   ],
   "source": [
    "%%time\n",
    "\n",
    "# assign 'in_borders' column\n",
    "frames[\"in_borders\"] = frames.intersects(am_bounds.geometry.item())"
   ]
  },
  {
   "cell_type": "code",
   "execution_count": 49,
   "metadata": {
    "tags": []
   },
   "outputs": [],
   "source": [
    "# create a integer column to plot\n",
    "frames[\"in_borders_int\"] = frames[\"in_borders\"].astype(int)"
   ]
  },
  {
   "cell_type": "code",
   "execution_count": 50,
   "metadata": {
    "tags": []
   },
   "outputs": [
    {
     "name": "stderr",
     "output_type": "stream",
     "text": [
      "100%|██████████████████████████████████████████████████████████████████████████████████| 10/10 [00:23<00:00,  2.39s/it]\n"
     ]
    },
    {
     "data": {
      "image/png": "[encoded data removed]",
      "text/plain": [
       "<Figure size 640x480 with 1 Axes>"
      ]
     },
     "metadata": {},
     "output_type": "display_data"
    }
   ],
   "source": [
    "# plot some samples and show borders flag\n",
    "fig, ax = plt.subplots()\n",
    "am_bounds.boundary.plot(ax=ax, color=\"black\")\n",
    "for _ in tqdm(range(10)):\n",
    "    s = frames.sample()\n",
    "    x = s[\"x\"].item()\n",
    "    y = s[\"y\"].item()\n",
    "    f = frames[\n",
    "        (frames[\"x\"] > x) &\n",
    "        (frames[\"x\"] < x+128) &\n",
    "        (frames[\"y\"] > y) &\n",
    "        (frames[\"y\"] < y+128)\n",
    "    ]\n",
    "    f.plot(column=\"in_borders_int\", cmap=\"Paired\", ax=ax, vmin=0, vmax=1)\n",
    "\n",
    "plt.show()"
   ]
  },
  {
   "cell_type": "code",
   "execution_count": 51,
   "metadata": {
    "tags": []
   },
   "outputs": [],
   "source": [
    "# drop the integer column\n",
    "frames.drop(\"in_borders_int\", axis=1, inplace=True)"
   ]
  },
  {
   "cell_type": "markdown",
   "metadata": {},
   "source": [
    "# Compute temporal increments by frame"
   ]
  },
  {
   "cell_type": "code",
   "execution_count": 52,
   "metadata": {
    "tags": []
   },
   "outputs": [
    {
     "data": {
      "text/plain": [
       "True"
      ]
     },
     "execution_count": 52,
     "metadata": {},
     "output_type": "execute_result"
    }
   ],
   "source": [
    "deter.crs == am_bounds.crs"
   ]
  },
  {
   "cell_type": "code",
   "execution_count": 53,
   "metadata": {
    "tags": []
   },
   "outputs": [
    {
     "data": {
      "text/plain": [
       "(4123117, 5)"
      ]
     },
     "execution_count": 53,
     "metadata": {},
     "output_type": "execute_result"
    }
   ],
   "source": [
    "frames[frames[\"in_borders\"]].shape"
   ]
  },
  {
   "cell_type": "code",
   "execution_count": 54,
   "metadata": {
    "tags": []
   },
   "outputs": [
    {
     "data": {
      "text/plain": [
       "(191275, 17)"
      ]
     },
     "execution_count": 54,
     "metadata": {},
     "output_type": "execute_result"
    }
   ],
   "source": [
    "deter.shape"
   ]
  },
  {
   "cell_type": "code",
   "execution_count": 55,
   "metadata": {
    "tags": []
   },
   "outputs": [
    {
     "name": "stdout",
     "output_type": "stream",
     "text": [
      "CPU times: total: 1min 13s\n",
      "Wall time: 1min 13s\n"
     ]
    }
   ],
   "source": [
    "%%time\n",
    "\n",
    "# compute intersection of deforestation areas with grid\n",
    "increments_by_week = gpd.overlay(\n",
    "    frames[frames[\"in_borders\"]][[\"frame_id\", \"geometry\"]], \n",
    "    deter[[\"week_count\", \"geometry\"]].reset_index(),\n",
    "    how=\"intersection\", \n",
    "    keep_geom_type=False\n",
    ").dissolve([\"frame_id\", \"week_count\"]).reset_index()"
   ]
  },
  {
   "cell_type": "code",
   "execution_count": 56,
   "metadata": {
    "tags": []
   },
   "outputs": [
    {
     "data": {
      "text/plain": [
       "(397302, 4)"
      ]
     },
     "execution_count": 56,
     "metadata": {},
     "output_type": "execute_result"
    }
   ],
   "source": [
    "increments_by_week.shape"
   ]
  },
  {
   "cell_type": "code",
   "execution_count": 57,
   "metadata": {
    "tags": []
   },
   "outputs": [],
   "source": [
    "# # get deter warnings from last week\n",
    "# increments_by_week[\"last_week_count\"] = increments_by_week[\"week_count\"] - 1\n",
    "# increments_by_week = increments_by_week.merge(\n",
    "#     increments_by_week[[\"frame_id\", \"week_count\", \"geometry\"]].rename(columns={\"week_count\": \"last_week_count\"}),\n",
    "#     on=[\"frame_id\", \"last_week_count\"],\n",
    "#     suffixes=(\"\", \"_last_week\"),\n",
    "#     how=\"left\",\n",
    "#     validate=\"1:1\"\n",
    "# )"
   ]
  },
  {
   "cell_type": "code",
   "execution_count": 58,
   "metadata": {
    "tags": []
   },
   "outputs": [],
   "source": [
    "# # get deter warnings from next week\n",
    "# increments_by_week[\"next_week_count\"] = increments_by_week[\"week_count\"] + 1\n",
    "# increments_by_week = increments_by_week.merge(\n",
    "#     increments_by_week[[\"frame_id\", \"week_count\", \"geometry\"]].rename(columns={\"week_count\": \"next_week_count\"}),\n",
    "#     on=[\"frame_id\", \"next_week_count\"],\n",
    "#     suffixes=(\"\", \"_next_week\"),\n",
    "#     how=\"left\",\n",
    "#     validate=\"1:1\"\n",
    "# )"
   ]
  },
  {
   "cell_type": "code",
   "execution_count": 59,
   "metadata": {
    "tags": []
   },
   "outputs": [],
   "source": [
    "# # sum this week geometry with next week geometry\n",
    "# increments_by_week[\"geometry_sum\"] = increments_by_week[\"geometry\"].union(increments_by_week[\"geometry_next_week\"])\n",
    "# increments_by_week.loc[\n",
    "#     increments_by_week[\"geometry_sum\"].isna(),\n",
    "#     \"geometry_sum\"\n",
    "# ] = increments_by_week[\"geometry\"]"
   ]
  },
  {
   "cell_type": "code",
   "execution_count": 60,
   "metadata": {
    "tags": []
   },
   "outputs": [],
   "source": [
    "# # complete dataset with \"last weeks\" with no warning\n",
    "# not_increment_last_week = increments_by_week[\n",
    "#     increments_by_week[\"geometry_last_week\"].isna()\n",
    "# ]\n",
    "# not_increment_last_week = not_increment_last_week[[\"frame_id\", \"geometry\", \"last_week_count\"]].rename(\n",
    "#     columns={\n",
    "#         \"geometry\": \"geometry_sum\",\n",
    "#         \"last_week_count\": \"week_count\"\n",
    "#     }\n",
    "# )\n",
    "\n",
    "# increments_by_week = pd.concat([increments_by_week, not_increment_last_week], axis=0)"
   ]
  },
  {
   "cell_type": "code",
   "execution_count": 61,
   "metadata": {
    "tags": []
   },
   "outputs": [],
   "source": [
    "# increments_by_week = increments_by_week[increments_by_week[\"week_count\"] >= 0]"
   ]
  },
  {
   "cell_type": "code",
   "execution_count": 62,
   "metadata": {
    "tags": []
   },
   "outputs": [
    {
     "data": {
      "text/plain": [
       "(397302, 4)"
      ]
     },
     "execution_count": 62,
     "metadata": {},
     "output_type": "execute_result"
    }
   ],
   "source": [
    "increments_by_week.shape"
   ]
  },
  {
   "cell_type": "code",
   "execution_count": 63,
   "metadata": {
    "tags": []
   },
   "outputs": [
    {
     "data": {
      "text/plain": [
       "frame_id      0.0\n",
       "week_count    0.0\n",
       "geometry      0.0\n",
       "index         0.0\n",
       "dtype: float64"
      ]
     },
     "execution_count": 63,
     "metadata": {},
     "output_type": "execute_result"
    }
   ],
   "source": [
    "increments_by_week.isna().mean()"
   ]
  },
  {
   "cell_type": "code",
   "execution_count": 64,
   "metadata": {
    "tags": []
   },
   "outputs": [
    {
     "data": {
      "text/plain": [
       "<Axes: ylabel='Count'>"
      ]
     },
     "execution_count": 64,
     "metadata": {},
     "output_type": "execute_result"
    },
    {
     "data": {
      "image/png": "[encoded data removed]",
      "text/plain": [
       "<Figure size 640x480 with 1 Axes>"
      ]
     },
     "metadata": {},
     "output_type": "display_data"
    }
   ],
   "source": [
    "sns.histplot(increments_by_week.geometry.area / 1e-6)"
   ]
  },
  {
   "cell_type": "code",
   "execution_count": 65,
   "metadata": {
    "tags": []
   },
   "outputs": [
    {
     "data": {
      "image/png": "[encoded data removed]",
      "text/plain": [
       "<Figure size 800x800 with 1 Axes>"
      ]
     },
     "metadata": {},
     "output_type": "display_data"
    }
   ],
   "source": [
    "# plot sample area\n",
    "frame_id_ = increments_by_week.sample()[\"frame_id\"].item()\n",
    "k = increments_by_week[\n",
    "    ((increments_by_week[\"frame_id\"] - frame_id_).abs() < 2) |\n",
    "    ((increments_by_week[\"frame_id\"] + ny - 1 - frame_id_).abs() < 2) |\n",
    "    ((increments_by_week[\"frame_id\"] - ny + 1 - frame_id_).abs() < 2)\n",
    "].copy()\n",
    "fig, ax = plt.subplots(figsize=(8, 8))\n",
    "frames[\n",
    "    ((frames[\"frame_id\"] - frame_id_).abs() < 2) |\n",
    "    ((frames[\"frame_id\"] + ny - 1 - frame_id_).abs() < 2) |\n",
    "    ((frames[\"frame_id\"] - ny + 1 - frame_id_).abs() < 2)\n",
    "].boundary.plot(ax=ax, color=\"black\")\n",
    "k.plot(column=\"week_count\", ax=ax, cmap=\"Reds\", alpha=.5)\n",
    "plt.show()"
   ]
  },
  {
   "cell_type": "markdown",
   "metadata": {},
   "source": [
    "# Compute area by frame"
   ]
  },
  {
   "cell_type": "code",
   "execution_count": 66,
   "metadata": {
    "tags": []
   },
   "outputs": [],
   "source": [
    "unit_frame_area = config.BOX_SIDE**2\n",
    "increments_by_week[\"area\"] = increments_by_week[\"geometry\"].area / unit_frame_area"
   ]
  },
  {
   "cell_type": "code",
   "execution_count": 67,
   "metadata": {
    "tags": []
   },
   "outputs": [
    {
     "data": {
      "text/plain": [
       "(397302, 5)"
      ]
     },
     "execution_count": 67,
     "metadata": {},
     "output_type": "execute_result"
    }
   ],
   "source": [
    "increments_by_week.shape"
   ]
  },
  {
   "cell_type": "code",
   "execution_count": 68,
   "metadata": {
    "tags": []
   },
   "outputs": [
    {
     "data": {
      "text/plain": [
       "0.00037348691113013273"
      ]
     },
     "execution_count": 68,
     "metadata": {},
     "output_type": "execute_result"
    }
   ],
   "source": [
    "increments_by_week.shape[0] / (frames[\"in_borders\"].sum() * (increments_by_week[\"week_count\"].max()+1))"
   ]
  },
  {
   "cell_type": "code",
   "execution_count": 69,
   "metadata": {
    "tags": []
   },
   "outputs": [],
   "source": [
    "# add date\n",
    "increments_by_week[\"date\"] = increments_by_week[\"week_count\"].map(deter.groupby(\"week_count\")[\"date\"].min())"
   ]
  },
  {
   "cell_type": "markdown",
   "metadata": {},
   "source": [
    "# Save files"
   ]
  },
  {
   "cell_type": "code",
   "execution_count": 71,
   "metadata": {},
   "outputs": [],
   "source": [
    "# save all frames geo-coordinates\n",
    "frames.to_file(config.TR_FRAMES)\n",
    "\n",
    "# save frames idx documentation\n",
    "frames[[\"frame_id\", \"x\", \"y\", \"in_borders\"]].to_csv(config.TR_FRAMES_IDX)\n",
    "\n",
    "# save increments history\n",
    "increments_by_week[[\"frame_id\", \"date\", \"week_count\", \"area\"]].to_csv(config.TR_DEFORESTATION)"
   ]
  },
  {
   "cell_type": "markdown",
   "metadata": {},
   "source": [
    "## Save as raster"
   ]
  },
  {
   "cell_type": "code",
   "execution_count": null,
   "metadata": {},
   "outputs": [],
   "source": [
    "from geocube.api.core import make_geocube\n",
    "\n",
    "# create pivoted table\n",
    "increments_by_week[\"date\"] = increments_by_week[\"date\"].dt.strftime(\"%Y-%m-%d\")\n",
    "increments_raster = gpd.GeoDataFrame(\n",
    "    increments_by_week.pivot_table(values=\"area\", index=\"frame_id\", columns=\"date\")\\\n",
    "    .fillna(0)\\\n",
    "    .reset_index()\n",
    ")\n",
    "date_cols = increments_raster.columns[1:]"
   ]
  },
  {
   "cell_type": "code",
   "execution_count": null,
   "metadata": {},
   "outputs": [],
   "source": [
    "# add geometry (to raster correctly)\n",
    "increments_raster = increments_raster.merge(\n",
    "    frames[[\"frame_id\", \"geometry\"]], \n",
    "    on=\"frame_id\", \n",
    "    how=\"left\",\n",
    "    validate=\"1:1\"\n",
    ")"
   ]
  },
  {
   "cell_type": "code",
   "execution_count": null,
   "metadata": {},
   "outputs": [],
   "source": [
    "# raster data with bands by date\n",
    "out_grid = make_geocube(\n",
    "    vector_data=increments_raster,\n",
    "    resolution=(0.01, 0.01),\n",
    "    measurements=list(date_cols),\n",
    "    geom=am_bounds.geometry.item(),\n",
    "    fill=0.0\n",
    ")"
   ]
  },
  {
   "cell_type": "code",
   "execution_count": null,
   "metadata": {},
   "outputs": [],
   "source": [
    "# save\n",
    "out_grid.rio.to_raster(\"deter_increments_1km_1week.tif\")"
   ]
  }
 ],
 "metadata": {
  "kernelspec": {
   "display_name": "Python 3 (ipykernel)",
   "language": "python",
   "name": "python3"
  },
  "language_info": {
   "codemirror_mode": {
    "name": "ipython",
    "version": 3
   },
   "file_extension": ".py",
   "mimetype": "text/x-python",
   "name": "python",
   "nbconvert_exporter": "python",
   "pygments_lexer": "ipython3",
   "version": "3.11.5"
  }
 },
 "nbformat": 4,
 "nbformat_minor": 4
}
