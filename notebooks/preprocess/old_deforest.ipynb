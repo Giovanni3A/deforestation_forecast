{
 "cells": [
  {
   "cell_type": "markdown",
   "metadata": {},
   "source": [
    "# Prepare environment"
   ]
  },
  {
   "cell_type": "code",
   "execution_count": 1,
   "metadata": {
    "tags": []
   },
   "outputs": [],
   "source": [
    "import os\n",
    "import pickle\n",
    "import numpy as np\n",
    "import pandas as pd\n",
    "import matplotlib.pyplot as plt\n",
    "import seaborn as sns\n",
    "\n",
    "import geopandas as gpd\n",
    "from shapely.geometry import box, Polygon\n",
    "\n",
    "from tqdm import tqdm"
   ]
  },
  {
   "cell_type": "code",
   "execution_count": 2,
   "metadata": {
    "tags": []
   },
   "outputs": [],
   "source": [
    "import sys\n",
    "sys.path.append(\"..//..\")\n",
    "import config\n",
    "\n",
    "import warnings\n",
    "warnings.filterwarnings('ignore')"
   ]
  },
  {
   "cell_type": "markdown",
   "metadata": {},
   "source": [
    "# Data reading"
   ]
  },
  {
   "cell_type": "markdown",
   "metadata": {},
   "source": [
    "## Amazon borders"
   ]
  },
  {
   "cell_type": "code",
   "execution_count": 3,
   "metadata": {
    "tags": []
   },
   "outputs": [],
   "source": [
    "# legal amazon limits\n",
    "am_bounds = gpd.read_file(config.AMAZON_FRONTIER_DATA)"
   ]
  },
  {
   "cell_type": "markdown",
   "metadata": {},
   "source": [
    "## DETER warnings"
   ]
  },
  {
   "cell_type": "code",
   "execution_count": 4,
   "metadata": {
    "tags": []
   },
   "outputs": [
    {
     "name": "stdout",
     "output_type": "stream",
     "text": [
      "Shape: (344983, 14)\n"
     ]
    },
    {
     "data": {
      "text/html": [
       "<div>\n",
       "<style scoped>\n",
       "    .dataframe tbody tr th:only-of-type {\n",
       "        vertical-align: middle;\n",
       "    }\n",
       "\n",
       "    .dataframe tbody tr th {\n",
       "        vertical-align: top;\n",
       "    }\n",
       "\n",
       "    .dataframe thead th {\n",
       "        text-align: right;\n",
       "    }\n",
       "</style>\n",
       "<table border=\"1\" class=\"dataframe\">\n",
       "  <thead>\n",
       "    <tr style=\"text-align: right;\">\n",
       "      <th></th>\n",
       "      <th>FID</th>\n",
       "      <th>CLASSNAME</th>\n",
       "      <th>QUADRANT</th>\n",
       "      <th>PATH_ROW</th>\n",
       "      <th>VIEW_DATE</th>\n",
       "      <th>SENSOR</th>\n",
       "      <th>SATELLITE</th>\n",
       "      <th>AREAUCKM</th>\n",
       "      <th>UC</th>\n",
       "      <th>AREAMUNKM</th>\n",
       "      <th>MUNICIPALI</th>\n",
       "      <th>GEOCODIBGE</th>\n",
       "      <th>UF</th>\n",
       "      <th>geometry</th>\n",
       "    </tr>\n",
       "  </thead>\n",
       "  <tbody>\n",
       "    <tr>\n",
       "      <th>0</th>\n",
       "      <td>100002_hist</td>\n",
       "      <td>CICATRIZ_DE_QUEIMADA</td>\n",
       "      <td>None</td>\n",
       "      <td>170105</td>\n",
       "      <td>2018-01-11</td>\n",
       "      <td>AWFI</td>\n",
       "      <td>CBERS-4</td>\n",
       "      <td>0.0</td>\n",
       "      <td>None</td>\n",
       "      <td>0.459839</td>\n",
       "      <td>Monte Alegre</td>\n",
       "      <td>1504802</td>\n",
       "      <td>PA</td>\n",
       "      <td>POLYGON ((-54.04199 -1.90637, -54.04199 -1.906...</td>\n",
       "    </tr>\n",
       "  </tbody>\n",
       "</table>\n",
       "</div>"
      ],
      "text/plain": [
       "           FID             CLASSNAME QUADRANT PATH_ROW   VIEW_DATE SENSOR  \\\n",
       "0  100002_hist  CICATRIZ_DE_QUEIMADA     None   170105  2018-01-11   AWFI   \n",
       "\n",
       "  SATELLITE  AREAUCKM    UC  AREAMUNKM    MUNICIPALI GEOCODIBGE  UF  \\\n",
       "0   CBERS-4       0.0  None   0.459839  Monte Alegre    1504802  PA   \n",
       "\n",
       "                                            geometry  \n",
       "0  POLYGON ((-54.04199 -1.90637, -54.04199 -1.906...  "
      ]
     },
     "execution_count": 4,
     "metadata": {},
     "output_type": "execute_result"
    }
   ],
   "source": [
    "# deter deforestation alerts\n",
    "deter = gpd.read_file(config.DETER_DATA)\n",
    "print(\"Shape:\", deter.shape)\n",
    "deter.head(1)"
   ]
  },
  {
   "cell_type": "code",
   "execution_count": 5,
   "metadata": {
    "tags": []
   },
   "outputs": [
    {
     "data": {
      "text/plain": [
       "CLASSNAME\n",
       "DESMATAMENTO_CR         229756\n",
       "CICATRIZ_DE_QUEIMADA     61129\n",
       "DEGRADACAO               30769\n",
       "DESMATAMENTO_VEG          8221\n",
       "MINERACAO                 6731\n",
       "CS_DESORDENADO            4949\n",
       "CS_GEOMETRICO             3425\n",
       "DEGRDACAO                    2\n",
       "CORTE_SELETIVO               1\n",
       "Name: count, dtype: int64"
      ]
     },
     "execution_count": 5,
     "metadata": {},
     "output_type": "execute_result"
    }
   ],
   "source": [
    "deter[\"CLASSNAME\"].value_counts()"
   ]
  },
  {
   "cell_type": "code",
   "execution_count": 6,
   "metadata": {
    "tags": []
   },
   "outputs": [],
   "source": [
    "# filtrar CLASSNAME\n",
    "deter = deter[deter[\"CLASSNAME\"].isin([\n",
    "    \"DESMATAMENTO_CR\", \"DESMATAMENTO_VEG\", \"MINERACAO\"\n",
    "])].copy()"
   ]
  },
  {
   "cell_type": "markdown",
   "metadata": {},
   "source": [
    "### Date format"
   ]
  },
  {
   "cell_type": "code",
   "execution_count": 7,
   "metadata": {
    "tags": []
   },
   "outputs": [],
   "source": [
    "# datetime data formatting\n",
    "deter[\"date\"] = pd.to_datetime(deter[\"VIEW_DATE\"])"
   ]
  },
  {
   "cell_type": "code",
   "execution_count": 8,
   "metadata": {
    "tags": []
   },
   "outputs": [
    {
     "data": {
      "image/png": "[encoded data removed]",
      "text/plain": [
       "<Figure size 640x480 with 1 Axes>"
      ]
     },
     "metadata": {},
     "output_type": "display_data"
    }
   ],
   "source": [
    "fig, ax = plt.subplots()\n",
    "sns.histplot(deter, x=\"date\", binwidth=28)\n",
    "plt.xticks(rotation=45)\n",
    "plt.show()"
   ]
  },
  {
   "cell_type": "markdown",
   "metadata": {},
   "source": [
    "## Prodes"
   ]
  },
  {
   "cell_type": "code",
   "execution_count": 9,
   "metadata": {
    "tags": []
   },
   "outputs": [
    {
     "name": "stdout",
     "output_type": "stream",
     "text": [
      "Shape: (206350, 16)\n"
     ]
    },
    {
     "data": {
      "text/html": [
       "<div>\n",
       "<style scoped>\n",
       "    .dataframe tbody tr th:only-of-type {\n",
       "        vertical-align: middle;\n",
       "    }\n",
       "\n",
       "    .dataframe tbody tr th {\n",
       "        vertical-align: top;\n",
       "    }\n",
       "\n",
       "    .dataframe thead th {\n",
       "        text-align: right;\n",
       "    }\n",
       "</style>\n",
       "<table border=\"1\" class=\"dataframe\">\n",
       "  <thead>\n",
       "    <tr style=\"text-align: right;\">\n",
       "      <th></th>\n",
       "      <th>fid</th>\n",
       "      <th>state</th>\n",
       "      <th>path_row</th>\n",
       "      <th>main_class</th>\n",
       "      <th>class_name</th>\n",
       "      <th>def_cloud</th>\n",
       "      <th>julian_day</th>\n",
       "      <th>image_date</th>\n",
       "      <th>year</th>\n",
       "      <th>area_km</th>\n",
       "      <th>scene_id</th>\n",
       "      <th>source</th>\n",
       "      <th>satellite</th>\n",
       "      <th>sensor</th>\n",
       "      <th>uuid</th>\n",
       "      <th>geometry</th>\n",
       "    </tr>\n",
       "  </thead>\n",
       "  <tbody>\n",
       "    <tr>\n",
       "      <th>0</th>\n",
       "      <td>1</td>\n",
       "      <td>RO</td>\n",
       "      <td>23268</td>\n",
       "      <td>DESMATAMENTO</td>\n",
       "      <td>d2007</td>\n",
       "      <td>0.0</td>\n",
       "      <td>0</td>\n",
       "      <td>None</td>\n",
       "      <td>2010.0</td>\n",
       "      <td>0.168487</td>\n",
       "      <td>0</td>\n",
       "      <td>Amazonia</td>\n",
       "      <td>Landsat</td>\n",
       "      <td>OLI</td>\n",
       "      <td>99f0fcd9-956a-412a-be60-5fc40c32f189</td>\n",
       "      <td>POLYGON ((-63.32990 -11.89132, -63.32963 -11.8...</td>\n",
       "    </tr>\n",
       "  </tbody>\n",
       "</table>\n",
       "</div>"
      ],
      "text/plain": [
       "   fid state path_row    main_class class_name  def_cloud  julian_day  \\\n",
       "0    1    RO    23268  DESMATAMENTO      d2007        0.0           0   \n",
       "\n",
       "  image_date    year   area_km  scene_id    source satellite sensor  \\\n",
       "0       None  2010.0  0.168487         0  Amazonia   Landsat    OLI   \n",
       "\n",
       "                                   uuid  \\\n",
       "0  99f0fcd9-956a-412a-be60-5fc40c32f189   \n",
       "\n",
       "                                            geometry  \n",
       "0  POLYGON ((-63.32990 -11.89132, -63.32963 -11.8...  "
      ]
     },
     "execution_count": 9,
     "metadata": {},
     "output_type": "execute_result"
    }
   ],
   "source": [
    "init_defor = gpd.read_file(config.INITIAL_DEFORESTATION)\n",
    "print(\"Shape:\", init_defor.shape)\n",
    "init_defor.head(1)"
   ]
  },
  {
   "cell_type": "code",
   "execution_count": 10,
   "metadata": {
    "tags": []
   },
   "outputs": [
    {
     "data": {
      "text/plain": [
       "main_class\n",
       "DESMATAMENTO    206350\n",
       "Name: count, dtype: int64"
      ]
     },
     "execution_count": 10,
     "metadata": {},
     "output_type": "execute_result"
    }
   ],
   "source": [
    "init_defor[\"main_class\"].value_counts()"
   ]
  },
  {
   "cell_type": "code",
   "execution_count": 11,
   "metadata": {
    "tags": []
   },
   "outputs": [
    {
     "data": {
      "text/plain": [
       "year\n",
       "2007.0    206330\n",
       "2009.0         5\n",
       "2010.0         3\n",
       "2013.0         3\n",
       "2011.0         3\n",
       "2016.0         2\n",
       "2008.0         2\n",
       "2018.0         1\n",
       "2019.0         1\n",
       "Name: count, dtype: int64"
      ]
     },
     "execution_count": 11,
     "metadata": {},
     "output_type": "execute_result"
    }
   ],
   "source": [
    "init_defor[\"year\"].value_counts()"
   ]
  },
  {
   "cell_type": "code",
   "execution_count": 12,
   "metadata": {
    "tags": []
   },
   "outputs": [],
   "source": [
    "init_defor = init_defor[init_defor[\"year\"] <= 2018].copy()"
   ]
  },
  {
   "cell_type": "code",
   "execution_count": 13,
   "metadata": {
    "tags": []
   },
   "outputs": [
    {
     "data": {
      "text/plain": [
       "count    2.063490e+05\n",
       "mean     3.481317e+00\n",
       "std      1.300468e+02\n",
       "min      3.960044e-09\n",
       "25%      2.552718e-02\n",
       "50%      7.459131e-02\n",
       "75%      2.108483e-01\n",
       "max      1.701348e+04\n",
       "Name: area_km, dtype: float64"
      ]
     },
     "execution_count": 13,
     "metadata": {},
     "output_type": "execute_result"
    }
   ],
   "source": [
    "init_defor[\"area_km\"].describe()"
   ]
  },
  {
   "cell_type": "code",
   "execution_count": 14,
   "metadata": {
    "tags": []
   },
   "outputs": [
    {
     "data": {
      "text/plain": [
       "<Axes: >"
      ]
     },
     "execution_count": 14,
     "metadata": {},
     "output_type": "execute_result"
    },
    {
     "data": {
      "image/png": "[encoded data removed]",
      "text/plain": [
       "<Figure size 640x480 with 1 Axes>"
      ]
     },
     "metadata": {},
     "output_type": "display_data"
    }
   ],
   "source": [
    "# big areas?\n",
    "init_defor[init_defor[\"area_km\"] > 10000].head(1).plot()"
   ]
  },
  {
   "cell_type": "code",
   "execution_count": 15,
   "metadata": {
    "tags": []
   },
   "outputs": [
    {
     "data": {
      "text/plain": [
       "525"
      ]
     },
     "execution_count": 15,
     "metadata": {},
     "output_type": "execute_result"
    }
   ],
   "source": [
    "(init_defor[\"area_km\"] >= 100).sum()"
   ]
  },
  {
   "cell_type": "markdown",
   "metadata": {},
   "source": [
    "## Model grid"
   ]
  },
  {
   "cell_type": "code",
   "execution_count": 16,
   "metadata": {
    "tags": []
   },
   "outputs": [
    {
     "name": "stdout",
     "output_type": "stream",
     "text": [
      "CPU times: total: 15min 33s\n",
      "Wall time: 15min 33s\n"
     ]
    }
   ],
   "source": [
    "%%time\n",
    "\n",
    "grid = gpd.read_file(config.TR_FRAMES)"
   ]
  },
  {
   "cell_type": "code",
   "execution_count": 17,
   "metadata": {
    "tags": []
   },
   "outputs": [
    {
     "data": {
      "text/html": [
       "<div>\n",
       "<style scoped>\n",
       "    .dataframe tbody tr th:only-of-type {\n",
       "        vertical-align: middle;\n",
       "    }\n",
       "\n",
       "    .dataframe tbody tr th {\n",
       "        vertical-align: top;\n",
       "    }\n",
       "\n",
       "    .dataframe thead th {\n",
       "        text-align: right;\n",
       "    }\n",
       "</style>\n",
       "<table border=\"1\" class=\"dataframe\">\n",
       "  <thead>\n",
       "    <tr style=\"text-align: right;\">\n",
       "      <th></th>\n",
       "      <th>frame_id</th>\n",
       "      <th>x</th>\n",
       "      <th>y</th>\n",
       "      <th>in_borders</th>\n",
       "      <th>geometry</th>\n",
       "    </tr>\n",
       "  </thead>\n",
       "  <tbody>\n",
       "    <tr>\n",
       "      <th>0</th>\n",
       "      <td>0</td>\n",
       "      <td>0</td>\n",
       "      <td>0</td>\n",
       "      <td>0</td>\n",
       "      <td>POLYGON ((-73.99097 -18.04177, -73.99097 -18.0...</td>\n",
       "    </tr>\n",
       "    <tr>\n",
       "      <th>1</th>\n",
       "      <td>1</td>\n",
       "      <td>0</td>\n",
       "      <td>1</td>\n",
       "      <td>0</td>\n",
       "      <td>POLYGON ((-73.99097 -18.03176, -73.99097 -18.0...</td>\n",
       "    </tr>\n",
       "  </tbody>\n",
       "</table>\n",
       "</div>"
      ],
      "text/plain": [
       "   frame_id  x  y  in_borders  \\\n",
       "0         0  0  0           0   \n",
       "1         1  0  1           0   \n",
       "\n",
       "                                            geometry  \n",
       "0  POLYGON ((-73.99097 -18.04177, -73.99097 -18.0...  \n",
       "1  POLYGON ((-73.99097 -18.03176, -73.99097 -18.0...  "
      ]
     },
     "execution_count": 17,
     "metadata": {},
     "output_type": "execute_result"
    }
   ],
   "source": [
    "grid.head(2)"
   ]
  },
  {
   "cell_type": "code",
   "execution_count": 18,
   "metadata": {
    "tags": []
   },
   "outputs": [],
   "source": [
    "# compute bounds for each grid square\n",
    "grid_bounds = grid.bounds"
   ]
  },
  {
   "cell_type": "markdown",
   "metadata": {},
   "source": [
    "## Frames index"
   ]
  },
  {
   "cell_type": "code",
   "execution_count": 19,
   "metadata": {
    "tags": []
   },
   "outputs": [],
   "source": [
    "frames_idx = pd.read_csv(config.TR_FRAMES_IDX, index_col=0)"
   ]
  },
  {
   "cell_type": "markdown",
   "metadata": {},
   "source": [
    "# Create time grid with accumalated deforestation area"
   ]
  },
  {
   "cell_type": "code",
   "execution_count": 20,
   "metadata": {
    "tags": []
   },
   "outputs": [],
   "source": [
    "def compute_in_grid(areas, grid):\n",
    "    # compute intersection of deforestation areas with grid\n",
    "    intersections = gpd.overlay(\n",
    "        grid[[\"frame_id\", \"geometry\"]], \n",
    "        areas[[\"geometry\"]].reset_index(),\n",
    "        how=\"intersection\", \n",
    "        keep_geom_type=False\n",
    "    ).dissolve([\"frame_id\"]).reset_index()\n",
    "    intersections[\"area\"] = intersections.geometry.area / (config.BOX_SIDE**2)\n",
    "    \n",
    "    return intersections[[\"frame_id\", \"area\"]]"
   ]
  },
  {
   "cell_type": "code",
   "execution_count": 21,
   "metadata": {
    "tags": []
   },
   "outputs": [
    {
     "name": "stdout",
     "output_type": "stream",
     "text": [
      "CPU times: total: 2min 50s\n",
      "Wall time: 2min 50s\n"
     ]
    }
   ],
   "source": [
    "%%time\n",
    "\n",
    "# initial deforestation grid (with prodes initial)\n",
    "prodes_grid_list = []\n",
    "\n",
    "# first add small prodes areas\n",
    "prodes_grid_list.append(compute_in_grid(init_defor[init_defor[\"area_km\"] < 200], grid[grid[\"in_borders\"] == 1]))"
   ]
  },
  {
   "cell_type": "code",
   "execution_count": 22,
   "metadata": {
    "tags": []
   },
   "outputs": [
    {
     "name": "stderr",
     "output_type": "stream",
     "text": [
      "100%|██████████████████████████████████████████████████████████████████████████████| 308/308 [1:16:28<00:00, 14.90s/it]\n"
     ]
    }
   ],
   "source": [
    "# now add the big areas\n",
    "big_areas_init = init_defor[init_defor[\"area_km\"] >= 200].sort_values(\"area_km\", ascending=True)\n",
    "for ind, row in tqdm(big_areas_init.iterrows(), total=len(big_areas_init)):\n",
    "    # get big area in geodataframe format\n",
    "    big_area_df = gpd.GeoDataFrame([row])\n",
    "    # filter grid around\n",
    "    min_x, min_y, max_x, max_y = big_area_df.total_bounds\n",
    "    subgrid = grid[\n",
    "        (grid_bounds[\"minx\"] < max_x) &\n",
    "        (grid_bounds[\"maxx\"] > min_x) &\n",
    "        (grid_bounds[\"miny\"] < max_y) &\n",
    "        (grid_bounds[\"maxy\"] > min_y)\n",
    "    ]\n",
    "    prodes_grid_list.append(\n",
    "        compute_in_grid(big_area_df, subgrid[subgrid[\"in_borders\"] == 1])\n",
    "    )"
   ]
  },
  {
   "cell_type": "code",
   "execution_count": 23,
   "metadata": {
    "tags": []
   },
   "outputs": [],
   "source": [
    "init_grid = pd.concat(prodes_grid_list, axis=0).groupby(\"frame_id\")[\"area\"].sum().reset_index()"
   ]
  },
  {
   "cell_type": "code",
   "execution_count": 24,
   "metadata": {
    "tags": []
   },
   "outputs": [],
   "source": [
    "init_grid[\"date\"] = \"2007-12-31\""
   ]
  },
  {
   "cell_type": "code",
   "execution_count": 25,
   "metadata": {
    "tags": []
   },
   "outputs": [],
   "source": [
    "# temporal incremental list\n",
    "past_defor = [init_grid]"
   ]
  },
  {
   "cell_type": "code",
   "execution_count": 26,
   "metadata": {
    "tags": []
   },
   "outputs": [
    {
     "name": "stderr",
     "output_type": "stream",
     "text": [
      "100%|████████████████████████████████████████████████████████████████████████████████| 258/258 [50:28<00:00, 11.74s/it]\n"
     ]
    }
   ],
   "source": [
    "# for each time step, add areas based on deter warnings\n",
    "last_dt = \"2000-01-01\"\n",
    "for idt, dt in tqdm(enumerate(config.TIME_STEPS), total=len(config.TIME_STEPS)):\n",
    "    dt_deter = deter[(deter[\"date\"] >= last_dt) & (deter[\"date\"] < dt)]\n",
    "    # compute additional deforestation\n",
    "    dt_add = compute_in_grid(dt_deter, grid[grid[\"in_borders\"] == 1])\n",
    "    # group by frame id, add date and append in final list\n",
    "    dt_grid = dt_add.groupby(\"frame_id\")[\"area\"].sum().reset_index()\n",
    "    dt_grid[\"date\"] = dt\n",
    "    past_defor.append(dt_grid)\n",
    "    # update date\n",
    "    last_dt = dt"
   ]
  },
  {
   "cell_type": "code",
   "execution_count": 27,
   "metadata": {
    "tags": []
   },
   "outputs": [
    {
     "data": {
      "text/plain": [
       "(1485979, 3)"
      ]
     },
     "execution_count": 27,
     "metadata": {},
     "output_type": "execute_result"
    }
   ],
   "source": [
    "past_defor_df = pd.concat(past_defor, axis=0)\n",
    "past_defor_df.shape"
   ]
  },
  {
   "cell_type": "code",
   "execution_count": 37,
   "metadata": {
    "tags": []
   },
   "outputs": [],
   "source": [
    "past_defor_df[\"date\"] = pd.to_datetime(past_defor_df[\"date\"])"
   ]
  },
  {
   "cell_type": "code",
   "execution_count": 38,
   "metadata": {
    "tags": []
   },
   "outputs": [
    {
     "name": "stdout",
     "output_type": "stream",
     "text": [
      "CPU times: total: 4.62 s\n",
      "Wall time: 4.63 s\n"
     ]
    }
   ],
   "source": [
    "%%time\n",
    "\n",
    "past_defor_df.to_csv(config.TR_PAST_DEFOR)"
   ]
  }
 ],
 "metadata": {
  "kernelspec": {
   "display_name": "Python 3 (ipykernel)",
   "language": "python",
   "name": "python3"
  },
  "language_info": {
   "codemirror_mode": {
    "name": "ipython",
    "version": 3
   },
   "file_extension": ".py",
   "mimetype": "text/x-python",
   "name": "python",
   "nbconvert_exporter": "python",
   "pygments_lexer": "ipython3",
   "version": "3.11.5"
  }
 },
 "nbformat": 4,
 "nbformat_minor": 4
}
