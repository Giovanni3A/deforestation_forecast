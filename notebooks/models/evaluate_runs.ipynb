{
 "cells": [
  {
   "cell_type": "code",
   "execution_count": 1,
   "id": "75487393-8806-45da-b13c-39395da48b15",
   "metadata": {
    "tags": []
   },
   "outputs": [],
   "source": [
    "import os\n",
    "import numpy as np\n",
    "import pandas as pd\n",
    "import geopandas as gpd\n",
    "from tqdm import tqdm\n",
    "from random import shuffle\n",
    "\n",
    "import matplotlib.pyplot as plt\n",
    "import seaborn as sns\n",
    "\n",
    "import sys\n",
    "sys.path.append(\"..//..\")\n",
    "import config"
   ]
  },
  {
   "cell_type": "code",
   "execution_count": 2,
   "id": "28ea09c4-1dd7-4b04-8145-6c11cf2aafa6",
   "metadata": {
    "tags": []
   },
   "outputs": [],
   "source": [
    "sns.set_style(\"darkgrid\", {\"grid.color\": \".6\", \"grid.linestyle\": \":\"})"
   ]
  },
  {
   "cell_type": "code",
   "execution_count": 18,
   "id": "bf81bb9c-1cfa-4639-98ec-c3388bf4fde3",
   "metadata": {
    "tags": []
   },
   "outputs": [],
   "source": [
    "def get_data_from_results_file(filepath):\n",
    "       \n",
    "    with open(filepath, \"r\") as file:\n",
    "        run_dict = {}\n",
    "        rt = file.readlines()\n",
    "        \n",
    "        def get_num_from_line(line):\n",
    "            return rt[line].split(\":\")[1].strip()\n",
    "        \n",
    "        weeks = int(get_num_from_line(1))\n",
    "        f1 = float(get_num_from_line(8))\n",
    "        f1_3 = float(get_num_from_line(17))\n",
    "        f1_5 = float(get_num_from_line(25))\n",
    "        f1_7 = float(get_num_from_line(33))\n",
    "        f1_9 = float(get_num_from_line(41))\n",
    "        f1_11 = float(get_num_from_line(49))\n",
    "        \n",
    "        tn = float(get_num_from_line(4))\n",
    "        fp = float(get_num_from_line(5))\n",
    "        fn = float(get_num_from_line(6))\n",
    "        tp = float(get_num_from_line(7))\n",
    "        \n",
    "        tn_3 = float(get_num_from_line(13))\n",
    "        fp_3 = float(get_num_from_line(14))\n",
    "        fn_3 = float(get_num_from_line(15))\n",
    "        tp_3 = float(get_num_from_line(16))\n",
    "        \n",
    "        tn_5 = float(get_num_from_line(21))\n",
    "        fp_5 = float(get_num_from_line(22))\n",
    "        fn_5 = float(get_num_from_line(23))\n",
    "        tp_5 = float(get_num_from_line(24))\n",
    "        \n",
    "        tn_7 = float(get_num_from_line(29))\n",
    "        fp_7 = float(get_num_from_line(30))\n",
    "        fn_7 = float(get_num_from_line(31))\n",
    "        tp_7 = float(get_num_from_line(32))\n",
    "        \n",
    "        tn_9 = float(get_num_from_line(37))\n",
    "        fp_9 = float(get_num_from_line(38))\n",
    "        fn_9 = float(get_num_from_line(39))\n",
    "        tp_9 = float(get_num_from_line(40))\n",
    "        \n",
    "        tn_11 = float(get_num_from_line(45))\n",
    "        fp_11 = float(get_num_from_line(46))\n",
    "        fn_11 = float(get_num_from_line(47))\n",
    "        tp_11 = float(get_num_from_line(48))\n",
    "        \n",
    "    return [\n",
    "        [weeks, 1, f1, tn, tp, fn, fp],\n",
    "        [weeks, 3, f1_3, tn_3, tp_3, fn_3, fp_3],\n",
    "        [weeks, 5, f1_5, tn_5, tp_5, fn_5, fp_5],\n",
    "        [weeks, 7, f1_7, tn_7, tp_7, fn_7, fp_7],\n",
    "        [weeks, 9, f1_9, tn_9, tp_9, fn_9, fp_9],\n",
    "        [weeks, 11, f1_11, tn_11, tp_11, fn_11, fp_11],\n",
    "    ]"
   ]
  },
  {
   "cell_type": "code",
   "execution_count": 46,
   "id": "480ad293-0d39-4cb5-89c1-ecdeeb511bd2",
   "metadata": {
    "tags": []
   },
   "outputs": [],
   "source": [
    "# load runs from 16 sized model\n",
    "runspath = os.path.join(config.RUNS_PATH, \"16_16_16_16\")\n",
    "run_folders = os.listdir(runspath)\n",
    "run_folders = [f for f in run_folders if not(\"SMALL MODEL\" in f)]\n",
    "\n",
    "runs_data = []\n",
    "for folder in run_folders:\n",
    "    filepath = os.path.join(runspath, folder, \"results.txt\")\n",
    "    runs_data = runs_data + get_data_from_results_file(filepath)"
   ]
  },
  {
   "cell_type": "code",
   "execution_count": 47,
   "id": "792cfc55-011c-4952-b8c2-5c5a777c4a74",
   "metadata": {
    "tags": []
   },
   "outputs": [],
   "source": [
    "cols = [\n",
    "    'weeks', \"pixel_size\", \"f1\", \"tn\", \"tp\", \"fn\", \"fp\"\n",
    "]\n",
    "    # 'f1', 'f1_3', 'f1_5', 'f1_7', 'f1_9', 'f1_11', \n",
    "    # 'tn', 'tp', 'fn', 'fp', \n",
    "    # 'tn_3', 'tp_3', 'fn_3', 'fp_3', \n",
    "    # 'tn_5', 'tp_5', 'fn_5', 'fp_5', \n",
    "    # 'tn_7', 'tp_7', 'fn_7', 'fp_7', \n",
    "    # 'tn_9', 'tp_9', 'fn_9', 'fp_9', \n",
    "    # 'tn_11', 'tp_11', 'fn_11', 'fp_11'\n",
    "# ]\n",
    "runs_data = pd.DataFrame(runs_data, columns=cols)"
   ]
  },
  {
   "cell_type": "code",
   "execution_count": 49,
   "id": "c926ca55-c6f7-4b0e-a678-8635e38463a0",
   "metadata": {
    "tags": []
   },
   "outputs": [
    {
     "data": {
      "text/html": [
       "<div>\n",
       "<style scoped>\n",
       "    .dataframe tbody tr th:only-of-type {\n",
       "        vertical-align: middle;\n",
       "    }\n",
       "\n",
       "    .dataframe tbody tr th {\n",
       "        vertical-align: top;\n",
       "    }\n",
       "\n",
       "    .dataframe thead th {\n",
       "        text-align: right;\n",
       "    }\n",
       "</style>\n",
       "<table border=\"1\" class=\"dataframe\">\n",
       "  <thead>\n",
       "    <tr style=\"text-align: right;\">\n",
       "      <th>pixel_size</th>\n",
       "      <th>1</th>\n",
       "      <th>3</th>\n",
       "      <th>5</th>\n",
       "      <th>7</th>\n",
       "      <th>9</th>\n",
       "      <th>11</th>\n",
       "    </tr>\n",
       "    <tr>\n",
       "      <th>weeks</th>\n",
       "      <th></th>\n",
       "      <th></th>\n",
       "      <th></th>\n",
       "      <th></th>\n",
       "      <th></th>\n",
       "      <th></th>\n",
       "    </tr>\n",
       "  </thead>\n",
       "  <tbody>\n",
       "    <tr>\n",
       "      <th>2</th>\n",
       "      <td>0.086730</td>\n",
       "      <td>0.136359</td>\n",
       "      <td>0.174064</td>\n",
       "      <td>0.206783</td>\n",
       "      <td>0.235710</td>\n",
       "      <td>0.261266</td>\n",
       "    </tr>\n",
       "    <tr>\n",
       "      <th>4</th>\n",
       "      <td>0.103123</td>\n",
       "      <td>0.179873</td>\n",
       "      <td>0.237395</td>\n",
       "      <td>0.281721</td>\n",
       "      <td>0.322075</td>\n",
       "      <td>0.354514</td>\n",
       "    </tr>\n",
       "    <tr>\n",
       "      <th>8</th>\n",
       "      <td>0.117343</td>\n",
       "      <td>0.228701</td>\n",
       "      <td>0.308710</td>\n",
       "      <td>0.369934</td>\n",
       "      <td>0.419705</td>\n",
       "      <td>0.460485</td>\n",
       "    </tr>\n",
       "    <tr>\n",
       "      <th>12</th>\n",
       "      <td>0.134015</td>\n",
       "      <td>0.268066</td>\n",
       "      <td>0.358911</td>\n",
       "      <td>0.428508</td>\n",
       "      <td>0.483335</td>\n",
       "      <td>0.527185</td>\n",
       "    </tr>\n",
       "    <tr>\n",
       "      <th>24</th>\n",
       "      <td>0.173522</td>\n",
       "      <td>0.348404</td>\n",
       "      <td>0.459075</td>\n",
       "      <td>0.535058</td>\n",
       "      <td>0.590580</td>\n",
       "      <td>0.634176</td>\n",
       "    </tr>\n",
       "  </tbody>\n",
       "</table>\n",
       "</div>"
      ],
      "text/plain": [
       "pixel_size        1         3         5         7         9         11\n",
       "weeks                                                                 \n",
       "2           0.086730  0.136359  0.174064  0.206783  0.235710  0.261266\n",
       "4           0.103123  0.179873  0.237395  0.281721  0.322075  0.354514\n",
       "8           0.117343  0.228701  0.308710  0.369934  0.419705  0.460485\n",
       "12          0.134015  0.268066  0.358911  0.428508  0.483335  0.527185\n",
       "24          0.173522  0.348404  0.459075  0.535058  0.590580  0.634176"
      ]
     },
     "execution_count": 49,
     "metadata": {},
     "output_type": "execute_result"
    }
   ],
   "source": [
    "# f1 by model\n",
    "f1_compare = pd.pivot_table(runs_data, index=\"weeks\", columns=\"pixel_size\", values=\"f1\", aggfunc=\"mean\")\n",
    "f1_compare"
   ]
  },
  {
   "cell_type": "code",
   "execution_count": 36,
   "id": "62d286c6-c956-4845-9664-6e46d0f89b7c",
   "metadata": {
    "tags": []
   },
   "outputs": [
    {
     "data": {
      "text/plain": [
       "<Axes: xlabel='weeks'>"
      ]
     },
     "execution_count": 36,
     "metadata": {},
     "output_type": "execute_result"
    },
    {
     "data": {
      "image/png": "[encoded data removed]",
      "text/plain": [
       "<Figure size 1800x400 with 2 Axes>"
      ]
     },
     "metadata": {},
     "output_type": "display_data"
    }
   ],
   "source": [
    "fig, ax = plt.subplots(1, 2, sharey=True, figsize=(18, 4))\n",
    "f1_compare.mean(axis=0).plot(kind=\"bar\", ax=ax[0])\n",
    "f1_compare.mean(axis=1).plot(kind=\"bar\", ax=ax[1])"
   ]
  },
  {
   "cell_type": "code",
   "execution_count": 37,
   "id": "3b830221-9e20-46de-be66-03d3f1a89104",
   "metadata": {
    "tags": []
   },
   "outputs": [
    {
     "data": {
      "text/html": [
       "<div>\n",
       "<style scoped>\n",
       "    .dataframe tbody tr th:only-of-type {\n",
       "        vertical-align: middle;\n",
       "    }\n",
       "\n",
       "    .dataframe tbody tr th {\n",
       "        vertical-align: top;\n",
       "    }\n",
       "\n",
       "    .dataframe thead th {\n",
       "        text-align: right;\n",
       "    }\n",
       "</style>\n",
       "<table border=\"1\" class=\"dataframe\">\n",
       "  <thead>\n",
       "    <tr style=\"text-align: right;\">\n",
       "      <th>kernel_size</th>\n",
       "      <th>1</th>\n",
       "      <th>3</th>\n",
       "      <th>5</th>\n",
       "      <th>7</th>\n",
       "      <th>9</th>\n",
       "      <th>11</th>\n",
       "    </tr>\n",
       "    <tr>\n",
       "      <th>weeks</th>\n",
       "      <th></th>\n",
       "      <th></th>\n",
       "      <th></th>\n",
       "      <th></th>\n",
       "      <th></th>\n",
       "      <th></th>\n",
       "    </tr>\n",
       "  </thead>\n",
       "  <tbody>\n",
       "    <tr>\n",
       "      <th>2</th>\n",
       "      <td>0.076673</td>\n",
       "      <td>0.122831</td>\n",
       "      <td>0.149465</td>\n",
       "      <td>0.167868</td>\n",
       "      <td>0.195871</td>\n",
       "      <td>0.220963</td>\n",
       "    </tr>\n",
       "    <tr>\n",
       "      <th>4</th>\n",
       "      <td>0.103873</td>\n",
       "      <td>0.160493</td>\n",
       "      <td>0.203557</td>\n",
       "      <td>0.253718</td>\n",
       "      <td>0.273317</td>\n",
       "      <td>0.308940</td>\n",
       "    </tr>\n",
       "    <tr>\n",
       "      <th>8</th>\n",
       "      <td>0.095813</td>\n",
       "      <td>0.180891</td>\n",
       "      <td>0.246675</td>\n",
       "      <td>0.294360</td>\n",
       "      <td>0.347235</td>\n",
       "      <td>0.392330</td>\n",
       "    </tr>\n",
       "    <tr>\n",
       "      <th>12</th>\n",
       "      <td>0.092409</td>\n",
       "      <td>0.204244</td>\n",
       "      <td>0.281999</td>\n",
       "      <td>0.341107</td>\n",
       "      <td>0.401688</td>\n",
       "      <td>0.452776</td>\n",
       "    </tr>\n",
       "    <tr>\n",
       "      <th>24</th>\n",
       "      <td>0.119065</td>\n",
       "      <td>0.272054</td>\n",
       "      <td>0.385261</td>\n",
       "      <td>0.464386</td>\n",
       "      <td>0.539138</td>\n",
       "      <td>0.579792</td>\n",
       "    </tr>\n",
       "  </tbody>\n",
       "</table>\n",
       "</div>"
      ],
      "text/plain": [
       "kernel_size        1         3         5         7         9         11\n",
       "weeks                                                                  \n",
       "2            0.076673  0.122831  0.149465  0.167868  0.195871  0.220963\n",
       "4            0.103873  0.160493  0.203557  0.253718  0.273317  0.308940\n",
       "8            0.095813  0.180891  0.246675  0.294360  0.347235  0.392330\n",
       "12           0.092409  0.204244  0.281999  0.341107  0.401688  0.452776\n",
       "24           0.119065  0.272054  0.385261  0.464386  0.539138  0.579792"
      ]
     },
     "execution_count": 37,
     "metadata": {},
     "output_type": "execute_result"
    }
   ],
   "source": [
    "# precision by model\n",
    "runs_data[\"prec\"] = runs_data[\"tp\"] / (runs_data[\"tp\"] + runs_data[\"fp\"])\n",
    "prec_compare = pd.pivot_table(runs_data, index=\"weeks\", columns=\"pixel_size\", values=\"prec\", aggfunc=\"mean\")\n",
    "prec_compare"
   ]
  },
  {
   "cell_type": "code",
   "execution_count": 38,
   "id": "31a78fb7-d278-4046-bba7-10731eeb8d64",
   "metadata": {
    "tags": []
   },
   "outputs": [
    {
     "data": {
      "text/plain": [
       "<Axes: xlabel='weeks'>"
      ]
     },
     "execution_count": 38,
     "metadata": {},
     "output_type": "execute_result"
    },
    {
     "data": {
      "image/png": "[encoded data removed]",
      "text/plain": [
       "<Figure size 1800x400 with 2 Axes>"
      ]
     },
     "metadata": {},
     "output_type": "display_data"
    }
   ],
   "source": [
    "fig, ax = plt.subplots(1, 2, sharey=True, figsize=(18, 4))\n",
    "prec_compare.mean(axis=0).plot(kind=\"bar\", ax=ax[0])\n",
    "prec_compare.mean(axis=1).plot(kind=\"bar\", ax=ax[1])"
   ]
  },
  {
   "cell_type": "code",
   "execution_count": 39,
   "id": "89c8ed4f-c1b4-412a-9955-98298e74f8bd",
   "metadata": {
    "tags": []
   },
   "outputs": [
    {
     "data": {
      "text/html": [
       "<div>\n",
       "<style scoped>\n",
       "    .dataframe tbody tr th:only-of-type {\n",
       "        vertical-align: middle;\n",
       "    }\n",
       "\n",
       "    .dataframe tbody tr th {\n",
       "        vertical-align: top;\n",
       "    }\n",
       "\n",
       "    .dataframe thead th {\n",
       "        text-align: right;\n",
       "    }\n",
       "</style>\n",
       "<table border=\"1\" class=\"dataframe\">\n",
       "  <thead>\n",
       "    <tr style=\"text-align: right;\">\n",
       "      <th>kernel_size</th>\n",
       "      <th>1</th>\n",
       "      <th>3</th>\n",
       "      <th>5</th>\n",
       "      <th>7</th>\n",
       "      <th>9</th>\n",
       "      <th>11</th>\n",
       "    </tr>\n",
       "    <tr>\n",
       "      <th>weeks</th>\n",
       "      <th></th>\n",
       "      <th></th>\n",
       "      <th></th>\n",
       "      <th></th>\n",
       "      <th></th>\n",
       "      <th></th>\n",
       "    </tr>\n",
       "  </thead>\n",
       "  <tbody>\n",
       "    <tr>\n",
       "      <th>2</th>\n",
       "      <td>0.099825</td>\n",
       "      <td>0.153234</td>\n",
       "      <td>0.208356</td>\n",
       "      <td>0.269185</td>\n",
       "      <td>0.295892</td>\n",
       "      <td>0.319553</td>\n",
       "    </tr>\n",
       "    <tr>\n",
       "      <th>4</th>\n",
       "      <td>0.102383</td>\n",
       "      <td>0.204575</td>\n",
       "      <td>0.284725</td>\n",
       "      <td>0.316671</td>\n",
       "      <td>0.392005</td>\n",
       "      <td>0.415861</td>\n",
       "    </tr>\n",
       "    <tr>\n",
       "      <th>8</th>\n",
       "      <td>0.151354</td>\n",
       "      <td>0.310860</td>\n",
       "      <td>0.412430</td>\n",
       "      <td>0.497719</td>\n",
       "      <td>0.530402</td>\n",
       "      <td>0.557296</td>\n",
       "    </tr>\n",
       "    <tr>\n",
       "      <th>12</th>\n",
       "      <td>0.243772</td>\n",
       "      <td>0.389901</td>\n",
       "      <td>0.493510</td>\n",
       "      <td>0.576126</td>\n",
       "      <td>0.606641</td>\n",
       "      <td>0.630860</td>\n",
       "    </tr>\n",
       "    <tr>\n",
       "      <th>24</th>\n",
       "      <td>0.319783</td>\n",
       "      <td>0.484329</td>\n",
       "      <td>0.567879</td>\n",
       "      <td>0.631101</td>\n",
       "      <td>0.652874</td>\n",
       "      <td>0.699819</td>\n",
       "    </tr>\n",
       "  </tbody>\n",
       "</table>\n",
       "</div>"
      ],
      "text/plain": [
       "kernel_size        1         3         5         7         9         11\n",
       "weeks                                                                  \n",
       "2            0.099825  0.153234  0.208356  0.269185  0.295892  0.319553\n",
       "4            0.102383  0.204575  0.284725  0.316671  0.392005  0.415861\n",
       "8            0.151354  0.310860  0.412430  0.497719  0.530402  0.557296\n",
       "12           0.243772  0.389901  0.493510  0.576126  0.606641  0.630860\n",
       "24           0.319783  0.484329  0.567879  0.631101  0.652874  0.699819"
      ]
     },
     "execution_count": 39,
     "metadata": {},
     "output_type": "execute_result"
    }
   ],
   "source": [
    "# recall by model\n",
    "runs_data[\"rec\"] = runs_data[\"tp\"] / (runs_data[\"tp\"] + runs_data[\"fn\"])\n",
    "rec_compare = pd.pivot_table(runs_data, index=\"weeks\", columns=\"pixel_size\", values=\"rec\", aggfunc=\"mean\")\n",
    "rec_compare"
   ]
  },
  {
   "cell_type": "code",
   "execution_count": 40,
   "id": "c0b3f03b-06fd-4364-8c12-5b1211386282",
   "metadata": {
    "tags": []
   },
   "outputs": [
    {
     "data": {
      "text/plain": [
       "<Axes: xlabel='weeks'>"
      ]
     },
     "execution_count": 40,
     "metadata": {},
     "output_type": "execute_result"
    },
    {
     "data": {
      "image/png": "[encoded data removed]",
      "text/plain": [
       "<Figure size 1800x400 with 2 Axes>"
      ]
     },
     "metadata": {},
     "output_type": "display_data"
    }
   ],
   "source": [
    "fig, ax = plt.subplots(1, 2, sharey=True, figsize=(18, 4))\n",
    "rec_compare.mean(axis=0).plot(kind=\"bar\", ax=ax[0])\n",
    "rec_compare.mean(axis=1).plot(kind=\"bar\", ax=ax[1])"
   ]
  }
 ],
 "metadata": {
  "kernelspec": {
   "display_name": "Python 3 (ipykernel)",
   "language": "python",
   "name": "python3"
  },
  "language_info": {
   "codemirror_mode": {
    "name": "ipython",
    "version": 3
   },
   "file_extension": ".py",
   "mimetype": "text/x-python",
   "name": "python",
   "nbconvert_exporter": "python",
   "pygments_lexer": "ipython3",
   "version": "3.11.5"
  }
 },
 "nbformat": 4,
 "nbformat_minor": 5
}
